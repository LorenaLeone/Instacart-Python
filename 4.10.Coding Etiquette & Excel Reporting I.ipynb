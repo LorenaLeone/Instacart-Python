{
  "cells": [
    {
      "cell_type": "code",
      "source": [
        "# Checking virtual RAM memory\n",
        "from psutil import virtual_memory\n",
        "ram_gb = virtual_memory().total / 1e9\n",
        "print('Your runtime has {:.1f} gigabytes of available RAM\\n'.format(ram_gb))\n",
        "\n",
        "if ram_gb < 20:\n",
        "  print('Not using a high-RAM runtime')\n",
        "else:\n",
        "  print('You are using a high-RAM runtime!')"
      ],
      "metadata": {
        "colab": {
          "base_uri": "https://localhost:8080/"
        },
        "id": "61zgvU8UYt2H",
        "outputId": "1625f9c8-03e1-4adc-f18a-b9aff4ebb1ec"
      },
      "id": "61zgvU8UYt2H",
      "execution_count": 1,
      "outputs": [
        {
          "output_type": "stream",
          "name": "stdout",
          "text": [
            "Your runtime has 27.3 gigabytes of available RAM\n",
            "\n",
            "You are using a high-RAM runtime!\n"
          ]
        }
      ]
    },
    {
      "cell_type": "markdown",
      "id": "e2deb38f",
      "metadata": {
        "id": "e2deb38f"
      },
      "source": [
        "## This script contains:\n",
        "\n",
        "##### 1. Import the data set you exported in Exercise 4.9 into a new Jupyter notebook. This should be the merged version of your data that contains the new customers column\n",
        "##### 2. Consider any security implications that might exist for this new data. You’ll need to address any PII data in the data before continuing your analysis\n",
        "##### 3. The Instacart officers are interested in comparing customer behavior in different geographic areas. Create a regional segmentation of the data. You’ll need to create a “Region” column based on the “State” column from your customers data set\n",
        "##### 4. Export dataframe"
      ]
    },
    {
      "cell_type": "markdown",
      "id": "cc1b4a95",
      "metadata": {
        "id": "cc1b4a95"
      },
      "source": [
        "### 1. Import the data set you exported in Exercise 4.9 into a new Jupyter notebook. This should be the merged version of your data that contains the new customers column"
      ]
    },
    {
      "cell_type": "code",
      "execution_count": 3,
      "id": "4fde093d",
      "metadata": {
        "id": "4fde093d"
      },
      "outputs": [],
      "source": [
        "import pandas as pd\n",
        "import numpy as np\n",
        "import os\n",
        "import matplotlib.pyplot as plt\n",
        "import seaborn as sns\n",
        "import scipy"
      ]
    },
    {
      "cell_type": "code",
      "source": [
        "# Mounting Google Drive\n",
        "from google.colab import drive\n",
        "drive.mount('/content/drive')"
      ],
      "metadata": {
        "colab": {
          "base_uri": "https://localhost:8080/"
        },
        "id": "CgtKyratMMkC",
        "outputId": "1fc56a0e-4921-4392-f711-51a1e1d35040"
      },
      "id": "CgtKyratMMkC",
      "execution_count": 4,
      "outputs": [
        {
          "output_type": "stream",
          "name": "stdout",
          "text": [
            "Mounted at /content/drive\n"
          ]
        }
      ]
    },
    {
      "cell_type": "code",
      "execution_count": 5,
      "id": "a5259619",
      "metadata": {
        "id": "a5259619"
      },
      "outputs": [],
      "source": [
        "# Defining the url\n",
        "path = 'drive/My Drive/Colab Notebooks/ords_prods.pkl'"
      ]
    },
    {
      "cell_type": "code",
      "execution_count": 6,
      "id": "09155a6d",
      "metadata": {
        "id": "09155a6d"
      },
      "outputs": [],
      "source": [
        "# Import df as string\n",
        "ords_prods = pd.read_pickle(path)"
      ]
    },
    {
      "cell_type": "markdown",
      "id": "385722d9",
      "metadata": {
        "id": "385722d9"
      },
      "source": [
        "### 2. Consider any security implications that might exist for this new data. You’ll need to address any PII data in the data before continuing your analysis"
      ]
    },
    {
      "cell_type": "markdown",
      "id": "3127ac0d",
      "metadata": {
        "id": "3127ac0d"
      },
      "source": [
        "> The PII was already addressed when I dropped the 'First Name' and 'Surnam' columns from 'customer' dataframe"
      ]
    },
    {
      "cell_type": "markdown",
      "id": "eb3b6574",
      "metadata": {
        "id": "eb3b6574"
      },
      "source": [
        "### 3. The Instacart officers are interested in comparing customer behavior in different geographic areas. Create a regional segmentation of the data. You’ll need to create a “Region” column based on the “State” column from your customers data set"
      ]
    },
    {
      "cell_type": "code",
      "execution_count": 7,
      "id": "0e701395",
      "metadata": {
        "id": "0e701395"
      },
      "outputs": [],
      "source": [
        "# Defining the conditions\n",
        "conditions = [\n",
        "    (ords_prods['state'].isin(['Maine', 'New Hampshire', 'Vermont', 'Massachusetts', 'Rhode Island', 'Connecticut', 'New York', 'Pennsylvania', 'New Jersey'])),\n",
        "    (ords_prods['state'].isin(['Wisconsin', 'Michigan', 'Illinois', 'Indiana', 'Ohio', 'North Dakota', 'South Dakota', 'Nebraska', 'Kansas', 'Minnesota', 'Iowa', 'Missouri'])),\n",
        "    (ords_prods['state'].isin(['Delaware', 'Maryland', 'District of Columbia', 'Virginia', 'West Virginia', 'North Carolina', 'South Carolina', 'Georgia', 'Florida', 'Kentucky', 'Tennessee', 'Mississippi', 'Alabama', 'Oklahoma', 'Texas', 'Arkansas', 'Louisiana'])),\n",
        "    (ords_prods['state'].isin(['Idaho', 'Montana', 'Wyoming', 'Nevada', 'Utah', 'Colorado', 'Arizona', 'New Mexico', 'Alaska', 'Washington', 'Oregon', 'California', 'Hawaii']))\n",
        "]"
      ]
    },
    {
      "cell_type": "code",
      "execution_count": 8,
      "id": "1331ee63",
      "metadata": {
        "id": "1331ee63"
      },
      "outputs": [],
      "source": [
        "# Defining values for each region\n",
        "values = ['Region 1 (Northeast)', 'Region 2 (Midwest)', 'Region 3 (South)', 'Region 4 (West)']"
      ]
    },
    {
      "cell_type": "code",
      "execution_count": 9,
      "id": "d69d4e7b",
      "metadata": {
        "id": "d69d4e7b"
      },
      "outputs": [],
      "source": [
        "# Create the flag column based on the conditions and values\n",
        "ords_prods['region'] = np.select(conditions, values, default='Other')\n",
        "# Now the 'region_flag' column will contain the corresponding region for each state"
      ]
    },
    {
      "cell_type": "code",
      "execution_count": 10,
      "id": "e065d990",
      "metadata": {
        "colab": {
          "base_uri": "https://localhost:8080/",
          "height": 473
        },
        "id": "e065d990",
        "outputId": "c8d7e1ac-5938-4295-81f0-db0a47f57b43"
      },
      "outputs": [
        {
          "output_type": "execute_result",
          "data": {
            "text/plain": [
              "   order_id  user_id  order_number  orders_day_of_week  order_hour_of_day  \\\n",
              "0   2539329        1             1                   2                  8   \n",
              "1   2398795        1             2                   3                  7   \n",
              "2    473747        1             3                   3                 12   \n",
              "3   2254736        1             4                   4                  7   \n",
              "4    431534        1             5                   4                 15   \n",
              "\n",
              "   days_since_prior_order  product_id  add_to_cart_order  reordered  \\\n",
              "0                     0.0         196                  1          0   \n",
              "1                    15.0         196                  1          1   \n",
              "2                    21.0         196                  1          1   \n",
              "3                    29.0         196                  1          1   \n",
              "4                    28.0         196                  1          1   \n",
              "\n",
              "  product_name  ...  gender    state  age date_joined dependants   status  \\\n",
              "0         Soda  ...  Female  Alabama   31   2/17/2019          3  married   \n",
              "1         Soda  ...  Female  Alabama   31   2/17/2019          3  married   \n",
              "2         Soda  ...  Female  Alabama   31   2/17/2019          3  married   \n",
              "3         Soda  ...  Female  Alabama   31   2/17/2019          3  married   \n",
              "4         Soda  ...  Female  Alabama   31   2/17/2019          3  married   \n",
              "\n",
              "  income dependants  True            region  \n",
              "0  40423          3  both  Region 3 (South)  \n",
              "1  40423          3  both  Region 3 (South)  \n",
              "2  40423          3  both  Region 3 (South)  \n",
              "3  40423          3  both  Region 3 (South)  \n",
              "4  40423          3  both  Region 3 (South)  \n",
              "\n",
              "[5 rows x 34 columns]"
            ],
            "text/html": [
              "\n",
              "\n",
              "  <div id=\"df-c8bbc681-6c35-4087-b6a0-741b1aea5fd9\">\n",
              "    <div class=\"colab-df-container\">\n",
              "      <div>\n",
              "<style scoped>\n",
              "    .dataframe tbody tr th:only-of-type {\n",
              "        vertical-align: middle;\n",
              "    }\n",
              "\n",
              "    .dataframe tbody tr th {\n",
              "        vertical-align: top;\n",
              "    }\n",
              "\n",
              "    .dataframe thead th {\n",
              "        text-align: right;\n",
              "    }\n",
              "</style>\n",
              "<table border=\"1\" class=\"dataframe\">\n",
              "  <thead>\n",
              "    <tr style=\"text-align: right;\">\n",
              "      <th></th>\n",
              "      <th>order_id</th>\n",
              "      <th>user_id</th>\n",
              "      <th>order_number</th>\n",
              "      <th>orders_day_of_week</th>\n",
              "      <th>order_hour_of_day</th>\n",
              "      <th>days_since_prior_order</th>\n",
              "      <th>product_id</th>\n",
              "      <th>add_to_cart_order</th>\n",
              "      <th>reordered</th>\n",
              "      <th>product_name</th>\n",
              "      <th>...</th>\n",
              "      <th>gender</th>\n",
              "      <th>state</th>\n",
              "      <th>age</th>\n",
              "      <th>date_joined</th>\n",
              "      <th>dependants</th>\n",
              "      <th>status</th>\n",
              "      <th>income</th>\n",
              "      <th>dependants</th>\n",
              "      <th>True</th>\n",
              "      <th>region</th>\n",
              "    </tr>\n",
              "  </thead>\n",
              "  <tbody>\n",
              "    <tr>\n",
              "      <th>0</th>\n",
              "      <td>2539329</td>\n",
              "      <td>1</td>\n",
              "      <td>1</td>\n",
              "      <td>2</td>\n",
              "      <td>8</td>\n",
              "      <td>0.0</td>\n",
              "      <td>196</td>\n",
              "      <td>1</td>\n",
              "      <td>0</td>\n",
              "      <td>Soda</td>\n",
              "      <td>...</td>\n",
              "      <td>Female</td>\n",
              "      <td>Alabama</td>\n",
              "      <td>31</td>\n",
              "      <td>2/17/2019</td>\n",
              "      <td>3</td>\n",
              "      <td>married</td>\n",
              "      <td>40423</td>\n",
              "      <td>3</td>\n",
              "      <td>both</td>\n",
              "      <td>Region 3 (South)</td>\n",
              "    </tr>\n",
              "    <tr>\n",
              "      <th>1</th>\n",
              "      <td>2398795</td>\n",
              "      <td>1</td>\n",
              "      <td>2</td>\n",
              "      <td>3</td>\n",
              "      <td>7</td>\n",
              "      <td>15.0</td>\n",
              "      <td>196</td>\n",
              "      <td>1</td>\n",
              "      <td>1</td>\n",
              "      <td>Soda</td>\n",
              "      <td>...</td>\n",
              "      <td>Female</td>\n",
              "      <td>Alabama</td>\n",
              "      <td>31</td>\n",
              "      <td>2/17/2019</td>\n",
              "      <td>3</td>\n",
              "      <td>married</td>\n",
              "      <td>40423</td>\n",
              "      <td>3</td>\n",
              "      <td>both</td>\n",
              "      <td>Region 3 (South)</td>\n",
              "    </tr>\n",
              "    <tr>\n",
              "      <th>2</th>\n",
              "      <td>473747</td>\n",
              "      <td>1</td>\n",
              "      <td>3</td>\n",
              "      <td>3</td>\n",
              "      <td>12</td>\n",
              "      <td>21.0</td>\n",
              "      <td>196</td>\n",
              "      <td>1</td>\n",
              "      <td>1</td>\n",
              "      <td>Soda</td>\n",
              "      <td>...</td>\n",
              "      <td>Female</td>\n",
              "      <td>Alabama</td>\n",
              "      <td>31</td>\n",
              "      <td>2/17/2019</td>\n",
              "      <td>3</td>\n",
              "      <td>married</td>\n",
              "      <td>40423</td>\n",
              "      <td>3</td>\n",
              "      <td>both</td>\n",
              "      <td>Region 3 (South)</td>\n",
              "    </tr>\n",
              "    <tr>\n",
              "      <th>3</th>\n",
              "      <td>2254736</td>\n",
              "      <td>1</td>\n",
              "      <td>4</td>\n",
              "      <td>4</td>\n",
              "      <td>7</td>\n",
              "      <td>29.0</td>\n",
              "      <td>196</td>\n",
              "      <td>1</td>\n",
              "      <td>1</td>\n",
              "      <td>Soda</td>\n",
              "      <td>...</td>\n",
              "      <td>Female</td>\n",
              "      <td>Alabama</td>\n",
              "      <td>31</td>\n",
              "      <td>2/17/2019</td>\n",
              "      <td>3</td>\n",
              "      <td>married</td>\n",
              "      <td>40423</td>\n",
              "      <td>3</td>\n",
              "      <td>both</td>\n",
              "      <td>Region 3 (South)</td>\n",
              "    </tr>\n",
              "    <tr>\n",
              "      <th>4</th>\n",
              "      <td>431534</td>\n",
              "      <td>1</td>\n",
              "      <td>5</td>\n",
              "      <td>4</td>\n",
              "      <td>15</td>\n",
              "      <td>28.0</td>\n",
              "      <td>196</td>\n",
              "      <td>1</td>\n",
              "      <td>1</td>\n",
              "      <td>Soda</td>\n",
              "      <td>...</td>\n",
              "      <td>Female</td>\n",
              "      <td>Alabama</td>\n",
              "      <td>31</td>\n",
              "      <td>2/17/2019</td>\n",
              "      <td>3</td>\n",
              "      <td>married</td>\n",
              "      <td>40423</td>\n",
              "      <td>3</td>\n",
              "      <td>both</td>\n",
              "      <td>Region 3 (South)</td>\n",
              "    </tr>\n",
              "  </tbody>\n",
              "</table>\n",
              "<p>5 rows × 34 columns</p>\n",
              "</div>\n",
              "      <button class=\"colab-df-convert\" onclick=\"convertToInteractive('df-c8bbc681-6c35-4087-b6a0-741b1aea5fd9')\"\n",
              "              title=\"Convert this dataframe to an interactive table.\"\n",
              "              style=\"display:none;\">\n",
              "\n",
              "  <svg xmlns=\"http://www.w3.org/2000/svg\" height=\"24px\"viewBox=\"0 0 24 24\"\n",
              "       width=\"24px\">\n",
              "    <path d=\"M0 0h24v24H0V0z\" fill=\"none\"/>\n",
              "    <path d=\"M18.56 5.44l.94 2.06.94-2.06 2.06-.94-2.06-.94-.94-2.06-.94 2.06-2.06.94zm-11 1L8.5 8.5l.94-2.06 2.06-.94-2.06-.94L8.5 2.5l-.94 2.06-2.06.94zm10 10l.94 2.06.94-2.06 2.06-.94-2.06-.94-.94-2.06-.94 2.06-2.06.94z\"/><path d=\"M17.41 7.96l-1.37-1.37c-.4-.4-.92-.59-1.43-.59-.52 0-1.04.2-1.43.59L10.3 9.45l-7.72 7.72c-.78.78-.78 2.05 0 2.83L4 21.41c.39.39.9.59 1.41.59.51 0 1.02-.2 1.41-.59l7.78-7.78 2.81-2.81c.8-.78.8-2.07 0-2.86zM5.41 20L4 18.59l7.72-7.72 1.47 1.35L5.41 20z\"/>\n",
              "  </svg>\n",
              "      </button>\n",
              "\n",
              "\n",
              "\n",
              "    <div id=\"df-90d2e417-cbfe-4adc-a8ca-d3a1a5a6615b\">\n",
              "      <button class=\"colab-df-quickchart\" onclick=\"quickchart('df-90d2e417-cbfe-4adc-a8ca-d3a1a5a6615b')\"\n",
              "              title=\"Suggest charts.\"\n",
              "              style=\"display:none;\">\n",
              "\n",
              "<svg xmlns=\"http://www.w3.org/2000/svg\" height=\"24px\"viewBox=\"0 0 24 24\"\n",
              "     width=\"24px\">\n",
              "    <g>\n",
              "        <path d=\"M19 3H5c-1.1 0-2 .9-2 2v14c0 1.1.9 2 2 2h14c1.1 0 2-.9 2-2V5c0-1.1-.9-2-2-2zM9 17H7v-7h2v7zm4 0h-2V7h2v10zm4 0h-2v-4h2v4z\"/>\n",
              "    </g>\n",
              "</svg>\n",
              "      </button>\n",
              "    </div>\n",
              "\n",
              "<style>\n",
              "  .colab-df-quickchart {\n",
              "    background-color: #E8F0FE;\n",
              "    border: none;\n",
              "    border-radius: 50%;\n",
              "    cursor: pointer;\n",
              "    display: none;\n",
              "    fill: #1967D2;\n",
              "    height: 32px;\n",
              "    padding: 0 0 0 0;\n",
              "    width: 32px;\n",
              "  }\n",
              "\n",
              "  .colab-df-quickchart:hover {\n",
              "    background-color: #E2EBFA;\n",
              "    box-shadow: 0px 1px 2px rgba(60, 64, 67, 0.3), 0px 1px 3px 1px rgba(60, 64, 67, 0.15);\n",
              "    fill: #174EA6;\n",
              "  }\n",
              "\n",
              "  [theme=dark] .colab-df-quickchart {\n",
              "    background-color: #3B4455;\n",
              "    fill: #D2E3FC;\n",
              "  }\n",
              "\n",
              "  [theme=dark] .colab-df-quickchart:hover {\n",
              "    background-color: #434B5C;\n",
              "    box-shadow: 0px 1px 3px 1px rgba(0, 0, 0, 0.15);\n",
              "    filter: drop-shadow(0px 1px 2px rgba(0, 0, 0, 0.3));\n",
              "    fill: #FFFFFF;\n",
              "  }\n",
              "</style>\n",
              "\n",
              "    <script>\n",
              "      async function quickchart(key) {\n",
              "        const containerElement = document.querySelector('#' + key);\n",
              "        const charts = await google.colab.kernel.invokeFunction(\n",
              "            'suggestCharts', [key], {});\n",
              "      }\n",
              "    </script>\n",
              "\n",
              "      <script>\n",
              "\n",
              "function displayQuickchartButton(domScope) {\n",
              "  let quickchartButtonEl =\n",
              "    domScope.querySelector('#df-90d2e417-cbfe-4adc-a8ca-d3a1a5a6615b button.colab-df-quickchart');\n",
              "  quickchartButtonEl.style.display =\n",
              "    google.colab.kernel.accessAllowed ? 'block' : 'none';\n",
              "}\n",
              "\n",
              "        displayQuickchartButton(document);\n",
              "      </script>\n",
              "      <style>\n",
              "    .colab-df-container {\n",
              "      display:flex;\n",
              "      flex-wrap:wrap;\n",
              "      gap: 12px;\n",
              "    }\n",
              "\n",
              "    .colab-df-convert {\n",
              "      background-color: #E8F0FE;\n",
              "      border: none;\n",
              "      border-radius: 50%;\n",
              "      cursor: pointer;\n",
              "      display: none;\n",
              "      fill: #1967D2;\n",
              "      height: 32px;\n",
              "      padding: 0 0 0 0;\n",
              "      width: 32px;\n",
              "    }\n",
              "\n",
              "    .colab-df-convert:hover {\n",
              "      background-color: #E2EBFA;\n",
              "      box-shadow: 0px 1px 2px rgba(60, 64, 67, 0.3), 0px 1px 3px 1px rgba(60, 64, 67, 0.15);\n",
              "      fill: #174EA6;\n",
              "    }\n",
              "\n",
              "    [theme=dark] .colab-df-convert {\n",
              "      background-color: #3B4455;\n",
              "      fill: #D2E3FC;\n",
              "    }\n",
              "\n",
              "    [theme=dark] .colab-df-convert:hover {\n",
              "      background-color: #434B5C;\n",
              "      box-shadow: 0px 1px 3px 1px rgba(0, 0, 0, 0.15);\n",
              "      filter: drop-shadow(0px 1px 2px rgba(0, 0, 0, 0.3));\n",
              "      fill: #FFFFFF;\n",
              "    }\n",
              "  </style>\n",
              "\n",
              "      <script>\n",
              "        const buttonEl =\n",
              "          document.querySelector('#df-c8bbc681-6c35-4087-b6a0-741b1aea5fd9 button.colab-df-convert');\n",
              "        buttonEl.style.display =\n",
              "          google.colab.kernel.accessAllowed ? 'block' : 'none';\n",
              "\n",
              "        async function convertToInteractive(key) {\n",
              "          const element = document.querySelector('#df-c8bbc681-6c35-4087-b6a0-741b1aea5fd9');\n",
              "          const dataTable =\n",
              "            await google.colab.kernel.invokeFunction('convertToInteractive',\n",
              "                                                     [key], {});\n",
              "          if (!dataTable) return;\n",
              "\n",
              "          const docLinkHtml = 'Like what you see? Visit the ' +\n",
              "            '<a target=\"_blank\" href=https://colab.research.google.com/notebooks/data_table.ipynb>data table notebook</a>'\n",
              "            + ' to learn more about interactive tables.';\n",
              "          element.innerHTML = '';\n",
              "          dataTable['output_type'] = 'display_data';\n",
              "          await google.colab.output.renderOutput(dataTable, element);\n",
              "          const docLink = document.createElement('div');\n",
              "          docLink.innerHTML = docLinkHtml;\n",
              "          element.appendChild(docLink);\n",
              "        }\n",
              "      </script>\n",
              "    </div>\n",
              "  </div>\n"
            ]
          },
          "metadata": {},
          "execution_count": 10
        }
      ],
      "source": [
        "# Checking df\n",
        "ords_prods.head()"
      ]
    },
    {
      "cell_type": "code",
      "execution_count": 16,
      "id": "ab1eac1b",
      "metadata": {
        "id": "ab1eac1b"
      },
      "outputs": [],
      "source": [
        "# Creating a subset make the crosstab\n",
        "region_spending_flag = ords_prods[['user_id', 'price_range_loc', 'region']].drop_duplicates()"
      ]
    },
    {
      "cell_type": "code",
      "execution_count": 19,
      "id": "01f3eba6",
      "metadata": {
        "id": "01f3eba6"
      },
      "outputs": [],
      "source": [
        "# Creating crosstab\n",
        "crosstab = pd.crosstab(region_spending_flag['region'], region_spending_flag['price_range_loc'], dropna =False)"
      ]
    },
    {
      "cell_type": "code",
      "execution_count": 22,
      "id": "ed58bd3a",
      "metadata": {
        "colab": {
          "base_uri": "https://localhost:8080/",
          "height": 206
        },
        "id": "ed58bd3a",
        "outputId": "ba9ca32d-7de3-4878-8f8d-f870ceba2afb"
      },
      "outputs": [
        {
          "output_type": "execute_result",
          "data": {
            "text/plain": [
              "price_range_loc       High-range product  Low-range product  Mid-range product\n",
              "region                                                                        \n",
              "Region 1 (Northeast)               16072              36120              36328\n",
              "Region 2 (Midwest)                 21531              48153              48453\n",
              "Region 3 (South)                   30296              68162              68627\n",
              "Region 4 (West)                    23134              52119              52466"
            ],
            "text/html": [
              "\n",
              "\n",
              "  <div id=\"df-0d3d1d2c-4c64-4e1c-beaf-6e79a14239d5\">\n",
              "    <div class=\"colab-df-container\">\n",
              "      <div>\n",
              "<style scoped>\n",
              "    .dataframe tbody tr th:only-of-type {\n",
              "        vertical-align: middle;\n",
              "    }\n",
              "\n",
              "    .dataframe tbody tr th {\n",
              "        vertical-align: top;\n",
              "    }\n",
              "\n",
              "    .dataframe thead th {\n",
              "        text-align: right;\n",
              "    }\n",
              "</style>\n",
              "<table border=\"1\" class=\"dataframe\">\n",
              "  <thead>\n",
              "    <tr style=\"text-align: right;\">\n",
              "      <th>price_range_loc</th>\n",
              "      <th>High-range product</th>\n",
              "      <th>Low-range product</th>\n",
              "      <th>Mid-range product</th>\n",
              "    </tr>\n",
              "    <tr>\n",
              "      <th>region</th>\n",
              "      <th></th>\n",
              "      <th></th>\n",
              "      <th></th>\n",
              "    </tr>\n",
              "  </thead>\n",
              "  <tbody>\n",
              "    <tr>\n",
              "      <th>Region 1 (Northeast)</th>\n",
              "      <td>16072</td>\n",
              "      <td>36120</td>\n",
              "      <td>36328</td>\n",
              "    </tr>\n",
              "    <tr>\n",
              "      <th>Region 2 (Midwest)</th>\n",
              "      <td>21531</td>\n",
              "      <td>48153</td>\n",
              "      <td>48453</td>\n",
              "    </tr>\n",
              "    <tr>\n",
              "      <th>Region 3 (South)</th>\n",
              "      <td>30296</td>\n",
              "      <td>68162</td>\n",
              "      <td>68627</td>\n",
              "    </tr>\n",
              "    <tr>\n",
              "      <th>Region 4 (West)</th>\n",
              "      <td>23134</td>\n",
              "      <td>52119</td>\n",
              "      <td>52466</td>\n",
              "    </tr>\n",
              "  </tbody>\n",
              "</table>\n",
              "</div>\n",
              "      <button class=\"colab-df-convert\" onclick=\"convertToInteractive('df-0d3d1d2c-4c64-4e1c-beaf-6e79a14239d5')\"\n",
              "              title=\"Convert this dataframe to an interactive table.\"\n",
              "              style=\"display:none;\">\n",
              "\n",
              "  <svg xmlns=\"http://www.w3.org/2000/svg\" height=\"24px\"viewBox=\"0 0 24 24\"\n",
              "       width=\"24px\">\n",
              "    <path d=\"M0 0h24v24H0V0z\" fill=\"none\"/>\n",
              "    <path d=\"M18.56 5.44l.94 2.06.94-2.06 2.06-.94-2.06-.94-.94-2.06-.94 2.06-2.06.94zm-11 1L8.5 8.5l.94-2.06 2.06-.94-2.06-.94L8.5 2.5l-.94 2.06-2.06.94zm10 10l.94 2.06.94-2.06 2.06-.94-2.06-.94-.94-2.06-.94 2.06-2.06.94z\"/><path d=\"M17.41 7.96l-1.37-1.37c-.4-.4-.92-.59-1.43-.59-.52 0-1.04.2-1.43.59L10.3 9.45l-7.72 7.72c-.78.78-.78 2.05 0 2.83L4 21.41c.39.39.9.59 1.41.59.51 0 1.02-.2 1.41-.59l7.78-7.78 2.81-2.81c.8-.78.8-2.07 0-2.86zM5.41 20L4 18.59l7.72-7.72 1.47 1.35L5.41 20z\"/>\n",
              "  </svg>\n",
              "      </button>\n",
              "\n",
              "\n",
              "\n",
              "    <div id=\"df-57861009-934e-489e-b4d5-0c0ce769ea26\">\n",
              "      <button class=\"colab-df-quickchart\" onclick=\"quickchart('df-57861009-934e-489e-b4d5-0c0ce769ea26')\"\n",
              "              title=\"Suggest charts.\"\n",
              "              style=\"display:none;\">\n",
              "\n",
              "<svg xmlns=\"http://www.w3.org/2000/svg\" height=\"24px\"viewBox=\"0 0 24 24\"\n",
              "     width=\"24px\">\n",
              "    <g>\n",
              "        <path d=\"M19 3H5c-1.1 0-2 .9-2 2v14c0 1.1.9 2 2 2h14c1.1 0 2-.9 2-2V5c0-1.1-.9-2-2-2zM9 17H7v-7h2v7zm4 0h-2V7h2v10zm4 0h-2v-4h2v4z\"/>\n",
              "    </g>\n",
              "</svg>\n",
              "      </button>\n",
              "    </div>\n",
              "\n",
              "<style>\n",
              "  .colab-df-quickchart {\n",
              "    background-color: #E8F0FE;\n",
              "    border: none;\n",
              "    border-radius: 50%;\n",
              "    cursor: pointer;\n",
              "    display: none;\n",
              "    fill: #1967D2;\n",
              "    height: 32px;\n",
              "    padding: 0 0 0 0;\n",
              "    width: 32px;\n",
              "  }\n",
              "\n",
              "  .colab-df-quickchart:hover {\n",
              "    background-color: #E2EBFA;\n",
              "    box-shadow: 0px 1px 2px rgba(60, 64, 67, 0.3), 0px 1px 3px 1px rgba(60, 64, 67, 0.15);\n",
              "    fill: #174EA6;\n",
              "  }\n",
              "\n",
              "  [theme=dark] .colab-df-quickchart {\n",
              "    background-color: #3B4455;\n",
              "    fill: #D2E3FC;\n",
              "  }\n",
              "\n",
              "  [theme=dark] .colab-df-quickchart:hover {\n",
              "    background-color: #434B5C;\n",
              "    box-shadow: 0px 1px 3px 1px rgba(0, 0, 0, 0.15);\n",
              "    filter: drop-shadow(0px 1px 2px rgba(0, 0, 0, 0.3));\n",
              "    fill: #FFFFFF;\n",
              "  }\n",
              "</style>\n",
              "\n",
              "    <script>\n",
              "      async function quickchart(key) {\n",
              "        const containerElement = document.querySelector('#' + key);\n",
              "        const charts = await google.colab.kernel.invokeFunction(\n",
              "            'suggestCharts', [key], {});\n",
              "      }\n",
              "    </script>\n",
              "\n",
              "      <script>\n",
              "\n",
              "function displayQuickchartButton(domScope) {\n",
              "  let quickchartButtonEl =\n",
              "    domScope.querySelector('#df-57861009-934e-489e-b4d5-0c0ce769ea26 button.colab-df-quickchart');\n",
              "  quickchartButtonEl.style.display =\n",
              "    google.colab.kernel.accessAllowed ? 'block' : 'none';\n",
              "}\n",
              "\n",
              "        displayQuickchartButton(document);\n",
              "      </script>\n",
              "      <style>\n",
              "    .colab-df-container {\n",
              "      display:flex;\n",
              "      flex-wrap:wrap;\n",
              "      gap: 12px;\n",
              "    }\n",
              "\n",
              "    .colab-df-convert {\n",
              "      background-color: #E8F0FE;\n",
              "      border: none;\n",
              "      border-radius: 50%;\n",
              "      cursor: pointer;\n",
              "      display: none;\n",
              "      fill: #1967D2;\n",
              "      height: 32px;\n",
              "      padding: 0 0 0 0;\n",
              "      width: 32px;\n",
              "    }\n",
              "\n",
              "    .colab-df-convert:hover {\n",
              "      background-color: #E2EBFA;\n",
              "      box-shadow: 0px 1px 2px rgba(60, 64, 67, 0.3), 0px 1px 3px 1px rgba(60, 64, 67, 0.15);\n",
              "      fill: #174EA6;\n",
              "    }\n",
              "\n",
              "    [theme=dark] .colab-df-convert {\n",
              "      background-color: #3B4455;\n",
              "      fill: #D2E3FC;\n",
              "    }\n",
              "\n",
              "    [theme=dark] .colab-df-convert:hover {\n",
              "      background-color: #434B5C;\n",
              "      box-shadow: 0px 1px 3px 1px rgba(0, 0, 0, 0.15);\n",
              "      filter: drop-shadow(0px 1px 2px rgba(0, 0, 0, 0.3));\n",
              "      fill: #FFFFFF;\n",
              "    }\n",
              "  </style>\n",
              "\n",
              "      <script>\n",
              "        const buttonEl =\n",
              "          document.querySelector('#df-0d3d1d2c-4c64-4e1c-beaf-6e79a14239d5 button.colab-df-convert');\n",
              "        buttonEl.style.display =\n",
              "          google.colab.kernel.accessAllowed ? 'block' : 'none';\n",
              "\n",
              "        async function convertToInteractive(key) {\n",
              "          const element = document.querySelector('#df-0d3d1d2c-4c64-4e1c-beaf-6e79a14239d5');\n",
              "          const dataTable =\n",
              "            await google.colab.kernel.invokeFunction('convertToInteractive',\n",
              "                                                     [key], {});\n",
              "          if (!dataTable) return;\n",
              "\n",
              "          const docLinkHtml = 'Like what you see? Visit the ' +\n",
              "            '<a target=\"_blank\" href=https://colab.research.google.com/notebooks/data_table.ipynb>data table notebook</a>'\n",
              "            + ' to learn more about interactive tables.';\n",
              "          element.innerHTML = '';\n",
              "          dataTable['output_type'] = 'display_data';\n",
              "          await google.colab.output.renderOutput(dataTable, element);\n",
              "          const docLink = document.createElement('div');\n",
              "          docLink.innerHTML = docLinkHtml;\n",
              "          element.appendChild(docLink);\n",
              "        }\n",
              "      </script>\n",
              "    </div>\n",
              "  </div>\n"
            ]
          },
          "metadata": {},
          "execution_count": 22
        }
      ],
      "source": [
        "# Checking crosstab\n",
        "crosstab"
      ]
    },
    {
      "cell_type": "code",
      "source": [
        "# Plotting the crosstab as a bar chart\n",
        "crosstab.plot(kind='bar', figsize=(10, 6))\n",
        "plt.xlabel('Spending Flag')\n",
        "plt.ylabel('Count')\n",
        "plt.title('Customer Spending Flag Across Regions')\n",
        "plt.xticks(rotation=0)\n",
        "plt.legend(title='Region')\n",
        "plt.tight_layout()\n",
        "plt.show()"
      ],
      "metadata": {
        "id": "Ryw_PAnkzHtB",
        "colab": {
          "base_uri": "https://localhost:8080/",
          "height": 607
        },
        "outputId": "1f329560-8d79-4fdb-f13c-7f64c56f9bd3"
      },
      "id": "Ryw_PAnkzHtB",
      "execution_count": 21,
      "outputs": [
        {
          "output_type": "display_data",
          "data": {
            "text/plain": [
              "<Figure size 1000x600 with 1 Axes>"
            ],
            "image/png": "[encoded data removed]"
          },
          "metadata": {}
        }
      ]
    },
    {
      "cell_type": "markdown",
      "source": [
        "### 4. Export dataframe"
      ],
      "metadata": {
        "id": "2pd7GGoamrYu"
      },
      "id": "2pd7GGoamrYu"
    },
    {
      "cell_type": "code",
      "source": [
        "# Exporting df as pickle to my Google Drive\n",
        "ords_prods.to_pickle('/content/drive/My Drive/Colab Notebooks/ords_prods_region.pkl')"
      ],
      "metadata": {
        "id": "J4KcIKNfk3Ug"
      },
      "id": "J4KcIKNfk3Ug",
      "execution_count": 23,
      "outputs": []
    }
  ],
  "metadata": {
    "kernelspec": {
      "display_name": "Python 3",
      "name": "python3"
    },
    "language_info": {
      "codemirror_mode": {
        "name": "ipython",
        "version": 3
      },
      "file_extension": ".py",
      "mimetype": "text/x-python",
      "name": "python",
      "nbconvert_exporter": "python",
      "pygments_lexer": "ipython3",
      "version": "3.10.9"
    },
    "colab": {
      "provenance": [],
      "machine_shape": "hm",
      "collapsed_sections": [
        "385722d9",
        "eb3b6574",
        "2pd7GGoamrYu"
      ]
    }
  },
  "nbformat": 4,
  "nbformat_minor": 5
}